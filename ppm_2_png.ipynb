{
 "cells": [
  {
   "cell_type": "code",
   "execution_count": null,
   "id": "55c71c6b",
   "metadata": {},
   "outputs": [],
   "source": [
    "from PIL import Image\n",
    "import glob\n",
    "import os\n",
    "f= r'C:/SachinP/Paper6_Binary_Classification_RFMiD/submission _to_CiBM/Revision_Comparison Papers/STARE Dataset/DRIVE_STARE_CHASE_train/DRIVE/images'\n",
    "d= r'C:/SachinP/Paper6_Binary_Classification_RFMiD/submission _to_CiBM/Revision_Comparison Papers/STARE Dataset/DRIVE_STARE_CHASE_train/all_train_img/'\n",
    "i=0\n",
    "for file in os.listdir(f):\n",
    "    i+=1\n",
    "    f_img=f+\"/\"+file\n",
    "    img=Image.open(f_img)\n",
    "    img=img.resize((128,128))\n",
    "    #img=ImageOps.grayscale(img)\n",
    "    img.save(d+\"/\"+str(i)+'.png')"
   ]
  },
  {
   "cell_type": "code",
   "execution_count": null,
   "id": "424ee5eb",
   "metadata": {},
   "outputs": [],
   "source": []
  },
  {
   "cell_type": "code",
   "execution_count": null,
   "id": "d9cfc7fd",
   "metadata": {},
   "outputs": [],
   "source": []
  }
 ],
 "metadata": {
  "kernelspec": {
   "display_name": "Python 3 (ipykernel)",
   "language": "python",
   "name": "python3"
  },
  "language_info": {
   "codemirror_mode": {
    "name": "ipython",
    "version": 3
   },
   "file_extension": ".py",
   "mimetype": "text/x-python",
   "name": "python",
   "nbconvert_exporter": "python",
   "pygments_lexer": "ipython3",
   "version": "3.8.0"
  }
 },
 "nbformat": 4,
 "nbformat_minor": 5
}
