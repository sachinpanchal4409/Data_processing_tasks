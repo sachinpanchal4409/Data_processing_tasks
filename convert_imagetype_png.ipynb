{
 "cells": [
  {
   "cell_type": "code",
   "execution_count": 1,
   "id": "dee56a88",
   "metadata": {},
   "outputs": [],
   "source": [
    "from PIL import Image\n",
    "import glob\n",
    "import os\n",
    "import numpy as np\n",
    "import cv2"
   ]
  },
  {
   "cell_type": "code",
   "execution_count": 3,
   "id": "da9eb51f",
   "metadata": {},
   "outputs": [],
   "source": [
    "base_path= r'C:/SachinP/Dataset/HRF_Dataset/all/manual/'\n",
    "new_path= r'C:/SachinP/Dataset/HRF_Dataset/all/manual/'\n",
    "i=10\n"
   ]
  },
  {
   "cell_type": "code",
   "execution_count": 4,
   "id": "c994450f",
   "metadata": {},
   "outputs": [
    {
     "name": "stdout",
     "output_type": "stream",
     "text": [
      "file : 01_dr.tif\n",
      "file : 01_g.tif\n",
      "file : 01_h.tif\n",
      "file : 02_dr.tif\n",
      "file : 02_g.tif\n",
      "file : 02_h.tif\n",
      "file : 03_dr.tif\n",
      "file : 03_g.tif\n",
      "file : 03_h.tif\n",
      "file : 04_dr.tif\n",
      "file : 04_g.tif\n",
      "file : 04_h.tif\n",
      "file : 05_dr.tif\n",
      "file : 05_g.tif\n",
      "file : 05_h.tif\n",
      "file : 06_dr.tif\n",
      "file : 06_g.tif\n",
      "file : 06_h.tif\n",
      "file : 07_dr.tif\n",
      "file : 07_g.tif\n",
      "file : 07_h.tif\n",
      "file : 08_dr.tif\n",
      "file : 08_g.tif\n",
      "file : 08_h.tif\n",
      "file : 09_dr.tif\n",
      "file : 09_g.tif\n",
      "file : 09_h.tif\n",
      "file : 10_dr.tif\n",
      "file : 10_g.tif\n",
      "file : 10_h.tif\n",
      "file : 11_dr.tif\n",
      "file : 11_g.tif\n",
      "file : 11_h.tif\n",
      "file : 12_dr.tif\n",
      "file : 12_g.tif\n",
      "file : 12_h.tif\n",
      "file : 13_dr.tif\n",
      "file : 13_g.tif\n",
      "file : 13_h.tif\n",
      "file : 14_dr.tif\n",
      "file : 14_g.tif\n",
      "file : 14_h.tif\n",
      "file : 15_dr.tif\n",
      "file : 15_g.tif\n",
      "file : 15_h.tif\n"
     ]
    }
   ],
   "source": [
    "for infile in os.listdir(base_path):\n",
    "    print (\"file : \"+ infile)\n",
    "    read = cv2.imread(base_path + infile)\n",
    "    outfile = infile.split('.')[0] + '.tif'\n",
    "    cv2.imwrite(new_path+outfile,read,[int(cv2.IMWRITE_JPEG_QUALITY), 200])"
   ]
  },
  {
   "cell_type": "code",
   "execution_count": 9,
   "id": "92fcf33c",
   "metadata": {},
   "outputs": [
    {
     "name": "stdout",
     "output_type": "stream",
     "text": [
      "file : 101.png\n"
     ]
    },
    {
     "ename": "AttributeError",
     "evalue": "module 'cv2' has no attribute 'IMWRITE_TIFF_COMPRESSION'",
     "output_type": "error",
     "traceback": [
      "\u001b[1;31m---------------------------------------------------------------------------\u001b[0m",
      "\u001b[1;31mAttributeError\u001b[0m                            Traceback (most recent call last)",
      "Input \u001b[1;32mIn [9]\u001b[0m, in \u001b[0;36m<cell line: 3>\u001b[1;34m()\u001b[0m\n\u001b[0;32m      5\u001b[0m read \u001b[38;5;241m=\u001b[39m cv2\u001b[38;5;241m.\u001b[39mimread(base_path \u001b[38;5;241m+\u001b[39m infile)\n\u001b[0;32m      6\u001b[0m outfile \u001b[38;5;241m=\u001b[39m infile\u001b[38;5;241m.\u001b[39msplit(\u001b[38;5;124m'\u001b[39m\u001b[38;5;124m.\u001b[39m\u001b[38;5;124m'\u001b[39m)[\u001b[38;5;241m0\u001b[39m] \u001b[38;5;241m+\u001b[39m \u001b[38;5;124m'\u001b[39m\u001b[38;5;124m.tif\u001b[39m\u001b[38;5;124m'\u001b[39m\n\u001b[1;32m----> 7\u001b[0m cv2\u001b[38;5;241m.\u001b[39mimencode(\u001b[38;5;124m'\u001b[39m\u001b[38;5;124m.tif\u001b[39m\u001b[38;5;124m'\u001b[39m, read, [\u001b[38;5;28mint\u001b[39m(\u001b[43mcv2\u001b[49m\u001b[38;5;241;43m.\u001b[39;49m\u001b[43mIMWRITE_TIFF_COMPRESSION\u001b[49m),\u001b[38;5;241m1\u001b[39m])\n",
      "\u001b[1;31mAttributeError\u001b[0m: module 'cv2' has no attribute 'IMWRITE_TIFF_COMPRESSION'"
     ]
    }
   ],
   "source": [
    "base_path= r'C:/SachinP/Paper4_LASkipModel/Revision_Comparison Papers/HRF_Test/images/'\n",
    "new_path= r'C:/SachinP/Paper4_LASkipModel/Revision_Comparison Papers/HRF_Test/images/'\n",
    "for infile in os.listdir(base_path):\n",
    "    print (\"file : \"+ infile)\n",
    "    read = cv2.imread(base_path + infile)\n",
    "    outfile = infile.split('.')[0] + '.tif'\n",
    "    cv2.imencode('.tif', read, [int(cv2.IMWRITE_TIFF_COMPRESSION),1])"
   ]
  },
  {
   "cell_type": "code",
   "execution_count": 4,
   "id": "fc76b4d9",
   "metadata": {},
   "outputs": [],
   "source": [
    "from PIL import Image\n",
    "import glob\n",
    "import os\n",
    "f= r'C:/SachinP/Paper4_LASkipModel/labels/'\n",
    "d= r'C:/SachinP/Paper4_LASkipModel/labels/'\n",
    "i=100\n",
    "for file in os.listdir(f):\n",
    "    i+=1\n",
    "    f_img=f+\"/\"+file\n",
    "    img=Image.open(f_img)\n",
    "    img=img.resize((512,512))\n",
    "    #img=ImageOps.grayscale(img)\n",
    "    img.save(d+\"/\"+file.split('.')[0]+'.png')"
   ]
  },
  {
   "cell_type": "code",
   "execution_count": null,
   "id": "cda6f28f",
   "metadata": {},
   "outputs": [],
   "source": []
  }
 ],
 "metadata": {
  "kernelspec": {
   "display_name": "Python 3 (ipykernel)",
   "language": "python",
   "name": "python3"
  },
  "language_info": {
   "codemirror_mode": {
    "name": "ipython",
    "version": 3
   },
   "file_extension": ".py",
   "mimetype": "text/x-python",
   "name": "python",
   "nbconvert_exporter": "python",
   "pygments_lexer": "ipython3",
   "version": "3.8.0"
  }
 },
 "nbformat": 4,
 "nbformat_minor": 5
}
