{
 "cells": [
  {
   "cell_type": "code",
   "execution_count": 1,
   "id": "0ca77ae3",
   "metadata": {},
   "outputs": [],
   "source": [
    "import turtle\n",
    "t = turtle.Pen()\n",
    "t.left(90)\n",
    "for x in range(180):\n",
    "    t.forward(1)\n",
    "    t.right(1)\n",
    "t.right(90)\n",
    "t.forward(115)"
   ]
  },
  {
   "cell_type": "code",
   "execution_count": null,
   "id": "1f85ba37",
   "metadata": {},
   "outputs": [],
   "source": []
  }
 ],
 "metadata": {
  "kernelspec": {
   "display_name": "Python 3 (ipykernel)",
   "language": "python",
   "name": "python3"
  },
  "language_info": {
   "codemirror_mode": {
    "name": "ipython",
    "version": 3
   },
   "file_extension": ".py",
   "mimetype": "text/x-python",
   "name": "python",
   "nbconvert_exporter": "python",
   "pygments_lexer": "ipython3",
   "version": "3.8.0"
  }
 },
 "nbformat": 4,
 "nbformat_minor": 5
}
