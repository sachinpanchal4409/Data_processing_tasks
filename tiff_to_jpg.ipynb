{
 "cells": [
  {
   "cell_type": "code",
   "execution_count": null,
   "id": "4f60f480",
   "metadata": {},
   "outputs": [],
   "source": [
    "import cv2\n",
    "import os\n",
    "import glob\n",
    "import numpy as np\n",
    "from PIL import Image\n",
    "\n",
    "img_dir = \"C:/SachinP/Dataset/DRIVE/training/images/\" \n",
    "data_path = os.path.join(img_dir,'*tif')\n",
    "files = glob.glob(data_path)\n",
    "data = []\n",
    "i=1\n",
    "for f1 in files:   \n",
    "    Image.open(f1).save('image_j'+str(i)+'.jpg')\n",
    "    i=i+1"
   ]
  },
  {
   "cell_type": "code",
   "execution_count": 11,
   "id": "31130b66",
   "metadata": {},
   "outputs": [],
   "source": [
    "from PIL import Image\n",
    "import sys\n",
    "\n",
    "def processImage(infile):\n",
    "    try:\n",
    "        im = Image.open(infile)\n",
    "    except IOError:\n",
    "        print(\"Cant load\", infile)\n",
    "        sys.exit(1)\n",
    "    \n",
    "    mypalette = im.getpalette()\n",
    "\n",
    "    try:\n",
    "        while 1:\n",
    "            im.putpalette(mypalette)\n",
    "            new_im = Image.new(\"RGBA\", im.size)\n",
    "            new_im.paste(im)\n",
    "            new_im.save('foo'+str(i)+'.png')\n",
    "\n",
    "            i += 1\n",
    "            im.seek(im.tell() + 1)\n",
    "\n",
    "    except EOFError:\n",
    "        pass # end of sequence\n"
   ]
  },
  {
   "cell_type": "code",
   "execution_count": 1,
   "id": "a8e7b528",
   "metadata": {},
   "outputs": [
    {
     "name": "stdout",
     "output_type": "stream",
     "text": [
      "file : 21_training.tif\n",
      "file : 22_training.tif\n",
      "file : 23_training.tif\n",
      "file : 24_training.tif\n",
      "file : 25_training.tif\n",
      "file : 26_training.tif\n",
      "file : 27_training.tif\n",
      "file : 28_training.tif\n",
      "file : 29_training.tif\n",
      "file : 30_training.tif\n",
      "file : 31_training.tif\n",
      "file : 32_training.tif\n",
      "file : 33_training.tif\n",
      "file : 34_training.tif\n",
      "file : 35_training.tif\n",
      "file : 36_training.tif\n",
      "file : 37_training.tif\n",
      "file : 38_training.tif\n",
      "file : 39_training.tif\n",
      "file : 40_training.tif\n"
     ]
    }
   ],
   "source": [
    "import cv2, os\n",
    "base_path = \"C:/SachinP/Dataset/DRIVE/training/images/\"\n",
    "new_path = \"C:/SachinP/Dataset/DRIVE/training/images_Mod/\"\n",
    "for infile in os.listdir(base_path):\n",
    "    print (\"file : \" + infile)\n",
    "    read = cv2.imread(base_path + infile)\n",
    "    outfile = infile.split('.')[0] + '.jpg'\n",
    "    cv2.imwrite(new_path+outfile,read,[int(cv2.IMWRITE_JPEG_QUALITY), 200])"
   ]
  },
  {
   "cell_type": "code",
   "execution_count": null,
   "id": "2a8cabb2",
   "metadata": {},
   "outputs": [],
   "source": []
  }
 ],
 "metadata": {
  "kernelspec": {
   "display_name": "Python 3 (ipykernel)",
   "language": "python",
   "name": "python3"
  },
  "language_info": {
   "codemirror_mode": {
    "name": "ipython",
    "version": 3
   },
   "file_extension": ".py",
   "mimetype": "text/x-python",
   "name": "python",
   "nbconvert_exporter": "python",
   "pygments_lexer": "ipython3",
   "version": "3.8.0"
  }
 },
 "nbformat": 4,
 "nbformat_minor": 5
}
