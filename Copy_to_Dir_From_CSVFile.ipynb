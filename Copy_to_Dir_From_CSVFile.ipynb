{
 "cells": [
  {
   "cell_type": "code",
   "execution_count": 2,
   "id": "69bd320f",
   "metadata": {},
   "outputs": [],
   "source": [
    "import os\n",
    "import glob\n",
    "import pandas\n",
    "import shutil"
   ]
  },
  {
   "cell_type": "code",
   "execution_count": 22,
   "id": "9e2e4b2d",
   "metadata": {
    "scrolled": true
   },
   "outputs": [
    {
     "name": "stdout",
     "output_type": "stream",
     "text": [
      "['att_unet_history_df.csv', 'columns.csv', 'custom_code_att_res_unet_history_df.csv', 'data3.csv', 'data4.csv', 'export_dataframe.csv', 'Image_sorter.csv', 'MLDSMOTE.csv', 'MLDSMOTE_44.csv', 'MLDSMOTE_9.csv', 'MLDSMOTE_without_Healthy.csv', 'Names.csv', 'sample.csv', 'sample1.csv', 'unet_history_df.csv', 'university_records.csv', 'vgg19_over.csv']\n",
      "1      7206_r\n",
      "2      7207_r\n",
      "3      7208_r\n",
      "4      7209_r\n",
      "5      7210_r\n",
      "        ...  \n",
      "225    7430_r\n",
      "226    7431_r\n",
      "227    7432_r\n",
      "228    7433_r\n",
      "229    7434_r\n",
      "Name: ARMD, Length: 229, dtype: object\n"
     ]
    },
    {
     "ename": "FileNotFoundError",
     "evalue": "[Errno 2] No such file or directory: 'C:/SachinP/Dataset/RFMiD/Training_Set/Training_Set/Training_set_FD_S_SMOTE_Resize/MYA_Rename/7343_r.png'",
     "output_type": "error",
     "traceback": [
      "\u001b[1;31m---------------------------------------------------------------------------\u001b[0m",
      "\u001b[1;31mFileNotFoundError\u001b[0m                         Traceback (most recent call last)",
      "Input \u001b[1;32mIn [22]\u001b[0m, in \u001b[0;36m<cell line: 22>\u001b[1;34m()\u001b[0m\n\u001b[0;32m     20\u001b[0m dir_dst \u001b[38;5;241m=\u001b[39m path\n\u001b[0;32m     22\u001b[0m \u001b[38;5;28;01mfor\u001b[39;00m i \u001b[38;5;129;01min\u001b[39;00m imaglst[\u001b[38;5;241m1\u001b[39m:]:\n\u001b[1;32m---> 23\u001b[0m     \u001b[43mshutil\u001b[49m\u001b[38;5;241;43m.\u001b[39;49m\u001b[43mcopy\u001b[49m\u001b[43m(\u001b[49m\u001b[43mos\u001b[49m\u001b[38;5;241;43m.\u001b[39;49m\u001b[43mpath\u001b[49m\u001b[38;5;241;43m.\u001b[39;49m\u001b[43mjoin\u001b[49m\u001b[43m(\u001b[49m\u001b[43mdir_src\u001b[49m\u001b[43m,\u001b[49m\u001b[43m \u001b[49m\u001b[38;5;28;43mstr\u001b[39;49m\u001b[43m(\u001b[49m\u001b[43mi\u001b[49m\u001b[43m)\u001b[49m\u001b[38;5;241;43m+\u001b[39;49m\u001b[38;5;124;43m'\u001b[39;49m\u001b[38;5;124;43m.png\u001b[39;49m\u001b[38;5;124;43m'\u001b[39;49m\u001b[43m)\u001b[49m\u001b[43m,\u001b[49m\u001b[43m \u001b[49m\u001b[43mdir_dst\u001b[49m\u001b[43m)\u001b[49m\n",
      "File \u001b[1;32m~\\anaconda3\\envs\\my-gpu\\lib\\shutil.py:409\u001b[0m, in \u001b[0;36mcopy\u001b[1;34m(src, dst, follow_symlinks)\u001b[0m\n\u001b[0;32m    407\u001b[0m \u001b[38;5;28;01mif\u001b[39;00m os\u001b[38;5;241m.\u001b[39mpath\u001b[38;5;241m.\u001b[39misdir(dst):\n\u001b[0;32m    408\u001b[0m     dst \u001b[38;5;241m=\u001b[39m os\u001b[38;5;241m.\u001b[39mpath\u001b[38;5;241m.\u001b[39mjoin(dst, os\u001b[38;5;241m.\u001b[39mpath\u001b[38;5;241m.\u001b[39mbasename(src))\n\u001b[1;32m--> 409\u001b[0m \u001b[43mcopyfile\u001b[49m\u001b[43m(\u001b[49m\u001b[43msrc\u001b[49m\u001b[43m,\u001b[49m\u001b[43m \u001b[49m\u001b[43mdst\u001b[49m\u001b[43m,\u001b[49m\u001b[43m \u001b[49m\u001b[43mfollow_symlinks\u001b[49m\u001b[38;5;241;43m=\u001b[39;49m\u001b[43mfollow_symlinks\u001b[49m\u001b[43m)\u001b[49m\n\u001b[0;32m    410\u001b[0m copymode(src, dst, follow_symlinks\u001b[38;5;241m=\u001b[39mfollow_symlinks)\n\u001b[0;32m    411\u001b[0m \u001b[38;5;28;01mreturn\u001b[39;00m dst\n",
      "File \u001b[1;32m~\\anaconda3\\envs\\my-gpu\\lib\\shutil.py:259\u001b[0m, in \u001b[0;36mcopyfile\u001b[1;34m(src, dst, follow_symlinks)\u001b[0m\n\u001b[0;32m    257\u001b[0m     os\u001b[38;5;241m.\u001b[39msymlink(os\u001b[38;5;241m.\u001b[39mreadlink(src), dst)\n\u001b[0;32m    258\u001b[0m \u001b[38;5;28;01melse\u001b[39;00m:\n\u001b[1;32m--> 259\u001b[0m     \u001b[38;5;28;01mwith\u001b[39;00m \u001b[38;5;28;43mopen\u001b[39;49m\u001b[43m(\u001b[49m\u001b[43msrc\u001b[49m\u001b[43m,\u001b[49m\u001b[43m \u001b[49m\u001b[38;5;124;43m'\u001b[39;49m\u001b[38;5;124;43mrb\u001b[39;49m\u001b[38;5;124;43m'\u001b[39;49m\u001b[43m)\u001b[49m \u001b[38;5;28;01mas\u001b[39;00m fsrc, \u001b[38;5;28mopen\u001b[39m(dst, \u001b[38;5;124m'\u001b[39m\u001b[38;5;124mwb\u001b[39m\u001b[38;5;124m'\u001b[39m) \u001b[38;5;28;01mas\u001b[39;00m fdst:\n\u001b[0;32m    260\u001b[0m         \u001b[38;5;66;03m# macOS\u001b[39;00m\n\u001b[0;32m    261\u001b[0m         \u001b[38;5;28;01mif\u001b[39;00m _HAS_FCOPYFILE:\n\u001b[0;32m    262\u001b[0m             \u001b[38;5;28;01mtry\u001b[39;00m:\n",
      "\u001b[1;31mFileNotFoundError\u001b[0m: [Errno 2] No such file or directory: 'C:/SachinP/Dataset/RFMiD/Training_Set/Training_Set/Training_set_FD_S_SMOTE_Resize/MYA_Rename/7343_r.png'"
     ]
    }
   ],
   "source": [
    "cwd = os.getcwd()\n",
    "path = \"C:/SachinP/Dataset/RFMiD/Training_Set/Training_Set/Training_set_FD_S_SMOTE_Resize/red.csv\"\n",
    "extension = 'csv'\n",
    "result = [i for i in glob.glob('*.{}'.format(extension))]\n",
    "print(result)\n",
    "\n",
    "colnames = ['ARMD']\n",
    "data = pandas.read_csv(\"C:/SachinP/Dataset/RFMiD/Training_Set/Training_Set/Training_set_FD_S_SMOTE_Resize/red.csv\")\n",
    "imaglst = data['ARMD']\n",
    "print(imaglst[1:len(imaglst)])\n",
    "dir_src = 'C:/SachinP/Dataset/RFMiD/Training_Set/Training_Set/Training_set_FD_S_SMOTE_Resize/MYA_Rename/'\n",
    "\n",
    "directory = \"MYA_r\"\n",
    "parent_dir = \"C:/SachinP/Dataset/RFMiD/Training_Set/Training_Set/Training_set_FD_S_SMOTE_Resize/Modified_RFMiD/\"\n",
    "path = os.path.join(parent_dir, directory)\n",
    "os.mkdir(path)\n",
    "     \n",
    "\n",
    "\n",
    "dir_dst = path\n",
    "\n",
    "for i in imaglst[1:]:\n",
    "    shutil.copy(os.path.join(dir_src, str(i)+'.png'), dir_dst)"
   ]
  },
  {
   "cell_type": "code",
   "execution_count": 7,
   "id": "9a6b80bf",
   "metadata": {},
   "outputs": [
    {
     "ename": "NameError",
     "evalue": "name 'TTYR' is not defined",
     "output_type": "error",
     "traceback": [
      "\u001b[1;31m---------------------------------------------------------------------------\u001b[0m",
      "\u001b[1;31mNameError\u001b[0m                                 Traceback (most recent call last)",
      "Input \u001b[1;32mIn [7]\u001b[0m, in \u001b[0;36m<cell line: 1>\u001b[1;34m()\u001b[0m\n\u001b[1;32m----> 1\u001b[0m \u001b[43mTTYR\u001b[49m\n",
      "\u001b[1;31mNameError\u001b[0m: name 'TTYR' is not defined"
     ]
    }
   ],
   "source": [
    "TTYR"
   ]
  },
  {
   "cell_type": "code",
   "execution_count": null,
   "id": "7084c13f",
   "metadata": {},
   "outputs": [],
   "source": []
  }
 ],
 "metadata": {
  "kernelspec": {
   "display_name": "Python 3 (ipykernel)",
   "language": "python",
   "name": "python3"
  },
  "language_info": {
   "codemirror_mode": {
    "name": "ipython",
    "version": 3
   },
   "file_extension": ".py",
   "mimetype": "text/x-python",
   "name": "python",
   "nbconvert_exporter": "python",
   "pygments_lexer": "ipython3",
   "version": "3.8.0"
  }
 },
 "nbformat": 4,
 "nbformat_minor": 5
}
